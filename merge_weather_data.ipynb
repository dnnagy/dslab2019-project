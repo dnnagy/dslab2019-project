{
 "cells": [
  {
   "cell_type": "code",
   "execution_count": 55,
   "metadata": {},
   "outputs": [],
   "source": [
    "import matplotlib as mpl\n",
    "from matplotlib import pyplot as plt\n",
    "import numpy as np\n",
    "import netCDF4\n",
    "from netCDF4 import Dataset"
   ]
  },
  {
   "cell_type": "code",
   "execution_count": 56,
   "metadata": {},
   "outputs": [],
   "source": [
    "rootdir = './data/'\n",
    "files = ['ERA5-hourly-temps-0_1_2h.nc',\n",
    "'ERA5-hourly-temps-3_4_5h.nc',\n",
    "'ERA5-hourly-temps-6_7_8h.nc',\n",
    "'ERA5-hourly-temps-9_10_11h.nc',\n",
    "'ERA5-hourly-temps-12_13_14h.nc',\n",
    "'ERA5-hourly-temps-15_16_17h.nc',\n",
    "'ERA5-hourly-temps-18_19_20h.nc',\n",
    "'ERA5-hourly-temps-21_22_23h.nc']\n",
    "\n",
    "# Load all data\n",
    "parts = []\n",
    "for file in files:\n",
    "  parts.append(Dataset(rootdir+file))"
   ]
  },
  {
   "cell_type": "code",
   "execution_count": 57,
   "metadata": {
    "scrolled": false
   },
   "outputs": [],
   "source": [
    "def merge_parts():\n",
    "  for part in parts:\n",
    "    print(part.file_format + \" => \" + str(len(np.array(part.variables['time']))) + \" records\")\n",
    "    print(np.array(part.variables['time'])[:3]-692496)\n",
    "\n",
    "  variables = list(parts[0].variables)\n",
    "\n",
    "  j = 0\n",
    "  full = {}\n",
    "\n",
    "  while j+3 <= len(np.array(parts[0].variables['time'])):\n",
    "    if j%1000==0:\n",
    "      print(\"j=\", j)\n",
    "    for k in range(len(parts)):\n",
    "      for v in variables:\n",
    "        if v in list(full.keys()):\n",
    "          full[v] = np.concatenate([full[v], np.array(parts[k].variables[v])[j:j+3]])\n",
    "        else:\n",
    "          full[v] = np.array(parts[k].variables[v])[j:j+3]\n",
    "    j = j+3\n",
    "    \n",
    "  # Merge all data, then save them to a netCDF4 file.\n",
    "  merged = Dataset(\"./data/ERA5-hourly-merged.nc\", \"w\", format='NETCDF4')\n",
    "\n",
    "  merged.createDimension(\"lon\", 2)\n",
    "  merged.createDimension(\"lat\", 2)\n",
    "  merged.createDimension(\"time\", len(full['time']))\n",
    "  merged_longitude = merged.createVariable('longitude', 'f', 'lon')\n",
    "  merged_latitude = merged.createVariable('latitude', 'f', 'lat')\n",
    "  merged_time = merged.createVariable('time', 'i8', 'time')\n",
    "  merged_t2m = merged.createVariable('t2m', 'f4', ('time', 'lat', 'lon'))\n",
    "  merged_skt = merged.createVariable('skt', 'f4', ('time', 'lat', 'lon'))\n",
    "  merged_stl1 = merged.createVariable('stl1', 'f4', ('time', 'lat', 'lon'))\n",
    "  merged_stl2 = merged.createVariable('stl2', 'f4', ('time', 'lat', 'lon'))\n",
    "\n",
    "  merged_longitude[:] = full['longitude'][:2]\n",
    "  merged_longitude.units = \"degrees_east\"\n",
    "  merged_latitude[:] = full['latitude'][:2]\n",
    "  merged_latitude.units = \"degrees_north\"\n",
    "  merged_time[:] = (full['time'] - 692496)\n",
    "  merged_time.units = \"hours\"\n",
    "  merged_time.long_name = \"hours since 1900-01-01 00:00:00.0 minus 692496\"\n",
    "  merged_t2m[:] = full['t2m']\n",
    "  merged_t2m.units = \"K\"\n",
    "  merged_t2m.long_name = \"2 metre temperature\"\n",
    "  merged_skt[:] = full['skt']\n",
    "  merged_skt.units = \"K\"\n",
    "  merged_skt.long_name = \"Skin temperature\"\n",
    "  merged_stl1[:] = full['stl1']\n",
    "  merged_stl1.units = \"K\"\n",
    "  merged_stl1.long_name = \"Soil temperature level 1\"\n",
    "  merged_stl2[:] = full['stl2']\n",
    "  merged_stl2.units = \"K\"\n",
    "  merged_stl2.long_name = \"Soil temperature level 2\"\n",
    "\n",
    "  merged.close()\n",
    "  return merged"
   ]
  },
  {
   "cell_type": "code",
   "execution_count": 54,
   "metadata": {},
   "outputs": [],
   "source": [
    "#merge_parts()"
   ]
  }
 ],
 "metadata": {
  "kernelspec": {
   "display_name": "Python 3",
   "language": "python",
   "name": "python3"
  },
  "language_info": {
   "codemirror_mode": {
    "name": "ipython",
    "version": 3
   },
   "file_extension": ".py",
   "mimetype": "text/x-python",
   "name": "python",
   "nbconvert_exporter": "python",
   "pygments_lexer": "ipython3",
   "version": "3.7.3"
  }
 },
 "nbformat": 4,
 "nbformat_minor": 2
}
