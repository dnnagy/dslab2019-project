{
 "cells": [
  {
   "cell_type": "markdown",
   "metadata": {
    "slideshow": {
     "slide_type": "slide"
    }
   },
   "source": [
    "# Predicting flowering dates based on meteorological information\n",
    "\n",
    "### Student: Nagy Dániel\n",
    "### Consultant: Jánosi Imre"
   ]
  },
  {
   "cell_type": "markdown",
   "metadata": {
    "slideshow": {
     "slide_type": "subslide"
    }
   },
   "source": [
    "# What is the investigated phenomenon?\n",
    "- Flowers are capable of determining the right time for flowering based on the meteorological conditions.\n",
    "- This appears to be a very sophisticated and complex biological process\n",
    "- The porpose of this project is to investigate the connection between meteorological parameters and flowering\n",
    "- Also we try to accurately predict vernalization time for different species based on meteorological measurements.\n",
    "- We try to minimize the number of parameters needed."
   ]
  },
  {
   "cell_type": "markdown",
   "metadata": {
    "slideshow": {
     "slide_type": "subslide"
    }
   },
   "source": [
    "# What data is available?\n",
    "- There is a CSV file containing the measured vernalization time for 329 species\n",
    "across 33 years from 1968 to 2000.\n",
    "- We have downloaded the meteorological data in an 1-hour resolution for this period.\n",
    "- The meteorological data was mesured at the nearest site."
   ]
  },
  {
   "cell_type": "markdown",
   "metadata": {
    "slideshow": {
     "slide_type": "subslide"
    }
   },
   "source": [
    "# What tools are required to digest data?\n",
    "- The flowering data is in CSV format, so numpy + pandas will be ok\n",
    "- The weather data is in `.nc` format which is based on HDF5. I have downloaded the\n",
    "HDF5View app and `netCDF4` package for python."
   ]
  },
  {
   "cell_type": "markdown",
   "metadata": {
    "slideshow": {
     "slide_type": "subslide"
    }
   },
   "source": [
    "# How and where will the data be stored during the workflow?\n",
    "-  The dataset is not too large, it can be stored on my own computer. I can also upload it to Google Drive, or Github if necessary"
   ]
  },
  {
   "cell_type": "markdown",
   "metadata": {
    "slideshow": {
     "slide_type": "subslide"
    }
   },
   "source": [
    "# Does the data need to be cleaned and if yes how?\n",
    "- The CSV file is missing some data points, but it needs no further cleaning\n",
    "- The weather data need to be merged and concatenated"
   ]
  },
  {
   "cell_type": "markdown",
   "metadata": {
    "slideshow": {
     "slide_type": "subslide"
    }
   },
   "source": [
    "# Progress this week\n",
    "- Installing necessary packages: `netCDF4`, `xarray`, `RISE` for presentation\n",
    "- Downloading datasets\n",
    "- Merging the weather data into a single netCDF4 file\n",
    "- Reading the articles about the phenomenon"
   ]
  },
  {
   "cell_type": "code",
   "execution_count": null,
   "metadata": {
    "slideshow": {
     "slide_type": "skip"
    }
   },
   "outputs": [],
   "source": []
  }
 ],
 "metadata": {
  "celltoolbar": "Slideshow",
  "kernelspec": {
   "display_name": "Python 3",
   "language": "python",
   "name": "python3"
  },
  "language_info": {
   "codemirror_mode": {
    "name": "ipython",
    "version": 3
   },
   "file_extension": ".py",
   "mimetype": "text/x-python",
   "name": "python",
   "nbconvert_exporter": "python",
   "pygments_lexer": "ipython3",
   "version": "3.7.3"
  }
 },
 "nbformat": 4,
 "nbformat_minor": 2
}
